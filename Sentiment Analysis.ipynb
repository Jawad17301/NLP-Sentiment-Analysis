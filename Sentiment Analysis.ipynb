{
 "cells": [
  {
   "cell_type": "code",
   "execution_count": 2,
   "id": "036f1e01",
   "metadata": {
    "executionInfo": {
     "elapsed": 525,
     "status": "ok",
     "timestamp": 1650131930754,
     "user": {
      "displayName": "Ghulam Mujtaba Adil",
      "userId": "04936732260816978053"
     },
     "user_tz": -300
    },
    "id": "036f1e01"
   },
   "outputs": [],
   "source": [
    "import os\n",
    "import tweepy as tw\n",
    "import pandas as pd\n",
    "import numpy as np\n",
    "from textblob import TextBlob\n",
    "import warnings\n",
    "warnings.filterwarnings('ignore')\n",
    "import spacy\n",
    "from spacy.lang.en.stop_words import STOP_WORDS as stopwords\n",
    "#pd.pandas.set_option(\"display.max_rows\",None)\n",
    "#pd.pandas.set_option(\"display.max_columns\",None)\n",
    "from pathlib import Path\n",
    "nlp = spacy.load(\"en_core_web_sm\")"
   ]
  },
  {
   "cell_type": "markdown",
   "id": "ad0fe119",
   "metadata": {},
   "source": [
    "# Defining Keys To Extract Tweets"
   ]
  },
  {
   "cell_type": "code",
   "execution_count": 3,
   "id": "47ab5158",
   "metadata": {},
   "outputs": [],
   "source": [
    "data=pd.read_csv(\"bitcoins.csv\")"
   ]
  },
  {
   "cell_type": "code",
   "execution_count": 78,
   "id": "dfd453bf",
   "metadata": {},
   "outputs": [],
   "source": [
    "data=data.drop([\"Unnamed: 0\"],axis=\"columns\")"
   ]
  },
  {
   "cell_type": "code",
   "execution_count": 79,
   "id": "0de33f1c",
   "metadata": {
    "scrolled": true
   },
   "outputs": [
    {
     "data": {
      "text/html": [
       "<div>\n",
       "<style scoped>\n",
       "    .dataframe tbody tr th:only-of-type {\n",
       "        vertical-align: middle;\n",
       "    }\n",
       "\n",
       "    .dataframe tbody tr th {\n",
       "        vertical-align: top;\n",
       "    }\n",
       "\n",
       "    .dataframe thead th {\n",
       "        text-align: right;\n",
       "    }\n",
       "</style>\n",
       "<table border=\"1\" class=\"dataframe\">\n",
       "  <thead>\n",
       "    <tr style=\"text-align: right;\">\n",
       "      <th></th>\n",
       "      <th>Tweet Text</th>\n",
       "    </tr>\n",
       "  </thead>\n",
       "  <tbody>\n",
       "    <tr>\n",
       "      <th>0</th>\n",
       "      <td>Wait for the real market drop around November ...</td>\n",
       "    </tr>\n",
       "    <tr>\n",
       "      <th>1</th>\n",
       "      <td>$QNT\\n\\nSUN, SEA &amp;amp; QUANT! \\n\\nGIVEAWAY!\\n\\...</td>\n",
       "    </tr>\n",
       "    <tr>\n",
       "      <th>2</th>\n",
       "      <td>Cool</td>\n",
       "    </tr>\n",
       "    <tr>\n",
       "      <th>3</th>\n",
       "      <td>Let's goooo!</td>\n",
       "    </tr>\n",
       "    <tr>\n",
       "      <th>4</th>\n",
       "      <td>Don't like the #Bitcoin price action?\\n\\nThen ...</td>\n",
       "    </tr>\n",
       "    <tr>\n",
       "      <th>...</th>\n",
       "      <td>...</td>\n",
       "    </tr>\n",
       "    <tr>\n",
       "      <th>129</th>\n",
       "      <td>#nft #nfts #sgb #xrpl #eth #flr #sol #blockcha...</td>\n",
       "    </tr>\n",
       "    <tr>\n",
       "      <th>130</th>\n",
       "      <td>$QNT\\n\\nSUN, SEA &amp;amp; QUANT! \\n\\nGIVEAWAY!\\n\\...</td>\n",
       "    </tr>\n",
       "    <tr>\n",
       "      <th>131</th>\n",
       "      <td>1+1=2 is an established fact . If everything i...</td>\n",
       "    </tr>\n",
       "    <tr>\n",
       "      <th>132</th>\n",
       "      <td>$QNT\\n\\nSUN, SEA &amp;amp; QUANT! \\n\\nGIVEAWAY!\\n\\...</td>\n",
       "    </tr>\n",
       "    <tr>\n",
       "      <th>133</th>\n",
       "      <td>$QNT\\n\\nSUN, SEA &amp;amp; QUANT! \\n\\nGIVEAWAY!\\n\\...</td>\n",
       "    </tr>\n",
       "  </tbody>\n",
       "</table>\n",
       "<p>134 rows × 1 columns</p>\n",
       "</div>"
      ],
      "text/plain": [
       "                                            Tweet Text\n",
       "0    Wait for the real market drop around November ...\n",
       "1    $QNT\\n\\nSUN, SEA &amp; QUANT! \\n\\nGIVEAWAY!\\n\\...\n",
       "2                                                 Cool\n",
       "3                                         Let's goooo!\n",
       "4    Don't like the #Bitcoin price action?\\n\\nThen ...\n",
       "..                                                 ...\n",
       "129  #nft #nfts #sgb #xrpl #eth #flr #sol #blockcha...\n",
       "130  $QNT\\n\\nSUN, SEA &amp; QUANT! \\n\\nGIVEAWAY!\\n\\...\n",
       "131  1+1=2 is an established fact . If everything i...\n",
       "132  $QNT\\n\\nSUN, SEA &amp; QUANT! \\n\\nGIVEAWAY!\\n\\...\n",
       "133  $QNT\\n\\nSUN, SEA &amp; QUANT! \\n\\nGIVEAWAY!\\n\\...\n",
       "\n",
       "[134 rows x 1 columns]"
      ]
     },
     "execution_count": 79,
     "metadata": {},
     "output_type": "execute_result"
    }
   ],
   "source": [
    "data"
   ]
  },
  {
   "cell_type": "markdown",
   "id": "33a239dc",
   "metadata": {},
   "source": [
    "# Filtering Tweets to remove Emoji's etc"
   ]
  },
  {
   "cell_type": "code",
   "execution_count": 80,
   "id": "2194f7a7",
   "metadata": {},
   "outputs": [],
   "source": [
    "from bs4 import BeautifulSoup\n",
    "import unicodedata\n",
    "import re\n",
    "def clean_text(text):\n",
    "    \n",
    "    text=re.sub(r'@[A-Za-z0-9]+', '',text) # remove @ mentions\n",
    "    text=re.sub(r'#', '',text)  #remove # symbols  \n",
    "    #text=re.sub(r'#[A-Za-z0-9]+', '',text)  #\n",
    "    text=re.sub(r'RT[\\S]+', '',text) # Removing RT\n",
    "    text=re.sub(r'\\bRT\\b',\"\",text).strip() # Remove RT\n",
    "    \n",
    "    text=re.sub(r'\\bRT\\b',\"\",text).strip()# Removing RT\n",
    "    text=re.sub(r'https?:\\/\\/\\S+', '',text)# Removes hyperlinks\n",
    "    text=' '.join(text.split()) # remove spaces\n",
    "    \n",
    "    \n",
    "    text=re.sub(r'\\n','',text)\n",
    "    text=re.sub(r'__','',text)\n",
    "    text=re.sub(r'_','',text)\n",
    "   \n",
    "    text=re.sub(r'|','',text)\n",
    "    text=re.sub(r'[^\\w ]+',\"\",text)\n",
    "    text= re.sub(r'\\d+', '', text) # remove numbers\n",
    "    text = text.encode(\"ascii\", \"ignore\").decode() #remove emojis\n",
    "    \n",
    "    text=re.sub(r'([A-Za-z0-9+._-]+@[A-Za-z0-9+._-]+\\.[A-Za-z0-9+_-]+)',\"\",text) # remove Emails\n",
    "    text=BeautifulSoup(text, 'lxml').get_text().strip()  #Remove HTML TAGS\n",
    "    text=unicodedata.normalize('NFKD', text).encode('ascii', 'ignore').decode('utf-8','ignore')  #remove accented characters\n",
    "    text=re.sub(r'[^\\w ]+',\"\",text)  # Remove Special Characters ...,,,@\\\\\n",
    "    \n",
    "    text=' '.join(text.split()) #Removing Extra Spaces and Gapes\n",
    "    \n",
    "    \n",
    "    return text"
   ]
  },
  {
   "cell_type": "code",
   "execution_count": 81,
   "id": "0e1242ae",
   "metadata": {},
   "outputs": [
    {
     "data": {
      "text/html": [
       "<div>\n",
       "<style scoped>\n",
       "    .dataframe tbody tr th:only-of-type {\n",
       "        vertical-align: middle;\n",
       "    }\n",
       "\n",
       "    .dataframe tbody tr th {\n",
       "        vertical-align: top;\n",
       "    }\n",
       "\n",
       "    .dataframe thead th {\n",
       "        text-align: right;\n",
       "    }\n",
       "</style>\n",
       "<table border=\"1\" class=\"dataframe\">\n",
       "  <thead>\n",
       "    <tr style=\"text-align: right;\">\n",
       "      <th></th>\n",
       "      <th>Tweet Text</th>\n",
       "    </tr>\n",
       "  </thead>\n",
       "  <tbody>\n",
       "    <tr>\n",
       "      <th>0</th>\n",
       "      <td>Wait for the real market drop around November ...</td>\n",
       "    </tr>\n",
       "    <tr>\n",
       "      <th>1</th>\n",
       "      <td>QNT SUN SEA amp QUANT GIVEAWAY Caribbean One p...</td>\n",
       "    </tr>\n",
       "    <tr>\n",
       "      <th>2</th>\n",
       "      <td>Cool</td>\n",
       "    </tr>\n",
       "    <tr>\n",
       "      <th>3</th>\n",
       "      <td>Lets goooo</td>\n",
       "    </tr>\n",
       "    <tr>\n",
       "      <th>4</th>\n",
       "      <td>Dont like the Bitcoin price action Then stop w...</td>\n",
       "    </tr>\n",
       "    <tr>\n",
       "      <th>...</th>\n",
       "      <td>...</td>\n",
       "    </tr>\n",
       "    <tr>\n",
       "      <th>129</th>\n",
       "      <td>nft nfts sgb xrpl eth flr sol blockchain crypt...</td>\n",
       "    </tr>\n",
       "    <tr>\n",
       "      <th>130</th>\n",
       "      <td>QNT SUN SEA amp QUANT GIVEAWAY Caribbean One p...</td>\n",
       "    </tr>\n",
       "    <tr>\n",
       "      <th>131</th>\n",
       "      <td>is an established fact If everything in the cr...</td>\n",
       "    </tr>\n",
       "    <tr>\n",
       "      <th>132</th>\n",
       "      <td>QNT SUN SEA amp QUANT GIVEAWAY Caribbean One p...</td>\n",
       "    </tr>\n",
       "    <tr>\n",
       "      <th>133</th>\n",
       "      <td>QNT SUN SEA amp QUANT GIVEAWAY Caribbean One p...</td>\n",
       "    </tr>\n",
       "  </tbody>\n",
       "</table>\n",
       "<p>134 rows × 1 columns</p>\n",
       "</div>"
      ],
      "text/plain": [
       "                                            Tweet Text\n",
       "0    Wait for the real market drop around November ...\n",
       "1    QNT SUN SEA amp QUANT GIVEAWAY Caribbean One p...\n",
       "2                                                 Cool\n",
       "3                                           Lets goooo\n",
       "4    Dont like the Bitcoin price action Then stop w...\n",
       "..                                                 ...\n",
       "129  nft nfts sgb xrpl eth flr sol blockchain crypt...\n",
       "130  QNT SUN SEA amp QUANT GIVEAWAY Caribbean One p...\n",
       "131  is an established fact If everything in the cr...\n",
       "132  QNT SUN SEA amp QUANT GIVEAWAY Caribbean One p...\n",
       "133  QNT SUN SEA amp QUANT GIVEAWAY Caribbean One p...\n",
       "\n",
       "[134 rows x 1 columns]"
      ]
     },
     "execution_count": 81,
     "metadata": {},
     "output_type": "execute_result"
    }
   ],
   "source": [
    "data[\"Tweet Text\"]=data[\"Tweet Text\"].apply(clean_text)\n",
    "data"
   ]
  },
  {
   "cell_type": "markdown",
   "id": "60392d1a",
   "metadata": {},
   "source": [
    "# REMOVING STOPWORDS "
   ]
  },
  {
   "cell_type": "code",
   "execution_count": 82,
   "id": "bc3f202b",
   "metadata": {},
   "outputs": [],
   "source": [
    "data[\"Tweet Text\"]=data[\"Tweet Text\"].apply(lambda x: ' '.join([i for i in x.split() if i not in stopwords]))"
   ]
  },
  {
   "cell_type": "code",
   "execution_count": null,
   "id": "c2607da3",
   "metadata": {},
   "outputs": [],
   "source": []
  },
  {
   "cell_type": "markdown",
   "id": "33151ca6",
   "metadata": {},
   "source": [
    "# Convert words into its Root Form"
   ]
  },
  {
   "cell_type": "code",
   "execution_count": 83,
   "id": "b6aa6241",
   "metadata": {},
   "outputs": [],
   "source": [
    "import en_core_web_sm\n",
    "\n",
    "nlp=spacy.load(\"en_core_web_sm\")\n",
    "\n",
    "def base_conversion(x):\n",
    "    x=str(x)\n",
    "    x_list=[]\n",
    "    doc=nlp(x)\n",
    "    \n",
    "    for token in doc:\n",
    "        lemma=token.lemma_\n",
    "        if(lemma=='-PRON-' or lemma== 'be'):\n",
    "            lemma=token.text\n",
    "        x_list.append(lemma)\n",
    "    return ' '.join(x_list)"
   ]
  },
  {
   "cell_type": "code",
   "execution_count": 84,
   "id": "32716a03",
   "metadata": {},
   "outputs": [],
   "source": [
    "data[\"Tweet Text\"]=data[\"Tweet Text\"].apply(lambda x: base_conversion(x))"
   ]
  },
  {
   "cell_type": "code",
   "execution_count": null,
   "id": "7461aa66",
   "metadata": {},
   "outputs": [],
   "source": []
  },
  {
   "cell_type": "markdown",
   "id": "81d34862",
   "metadata": {},
   "source": [
    "# 100 Common Words Removal (Most frequent words Removal)"
   ]
  },
  {
   "cell_type": "code",
   "execution_count": 19,
   "id": "7d0c6e2d",
   "metadata": {},
   "outputs": [],
   "source": [
    "text=' '.join(data[\"Tweet Text\"])\n",
    "text=text.split()\n",
    "\n",
    "# finding frequency of words repeated the most\n",
    "\n",
    "freq_common=pd.Series(text).value_counts()\n",
    "# selecting top 20 words that are the most commonly occured in the dataset\n",
    "f20=freq_common[:100]\n",
    "\n",
    "data[\"Tweet Text\"]=data[\"Tweet Text\"].apply(lambda x: ' '.join([i for i in x.split() if i not in f20 ]))"
   ]
  },
  {
   "cell_type": "code",
   "execution_count": null,
   "id": "48b5abb5",
   "metadata": {},
   "outputs": [],
   "source": []
  },
  {
   "cell_type": "markdown",
   "id": "cffb6b80",
   "metadata": {},
   "source": [
    "# Rare Occuring Words Removal"
   ]
  },
  {
   "cell_type": "code",
   "execution_count": null,
   "id": "b9bc476b",
   "metadata": {},
   "outputs": [],
   "source": []
  },
  {
   "cell_type": "code",
   "execution_count": 20,
   "id": "27e5ad18",
   "metadata": {},
   "outputs": [],
   "source": [
    "text=' '.join(data[\"Tweet Text\"])\n",
    "text=text.split()\n",
    "\n",
    "freq_common=pd.Series(text).value_counts()\n",
    "# selecting top 20 words that are the most commonly occured in the dataset\n",
    "rare20=freq_common.tail(20)\n",
    "\n",
    "data[\"Tweet Text\"]=data[\"Tweet Text\"].apply(lambda x: ' '.join([i for i in x.split() if i not in rare20 ]))"
   ]
  },
  {
   "cell_type": "markdown",
   "id": "dc35d5d0",
   "metadata": {},
   "source": [
    "# Tweets Tokenized into words"
   ]
  },
  {
   "cell_type": "code",
   "execution_count": 85,
   "id": "d14a76ba",
   "metadata": {},
   "outputs": [],
   "source": [
    "#defining function for tokenization\n",
    "import re\n",
    "def tokenization(text):\n",
    "    tokens = re.split('\\\\W+',text)\n",
    "    return tokens\n",
    "#applying function to the column\n",
    "data['Tokenized_tweets']= data['Tweet Text'].apply(lambda x: tokenization(x))"
   ]
  },
  {
   "cell_type": "code",
   "execution_count": 86,
   "id": "8c571029",
   "metadata": {},
   "outputs": [
    {
     "data": {
      "text/html": [
       "<div>\n",
       "<style scoped>\n",
       "    .dataframe tbody tr th:only-of-type {\n",
       "        vertical-align: middle;\n",
       "    }\n",
       "\n",
       "    .dataframe tbody tr th {\n",
       "        vertical-align: top;\n",
       "    }\n",
       "\n",
       "    .dataframe thead th {\n",
       "        text-align: right;\n",
       "    }\n",
       "</style>\n",
       "<table border=\"1\" class=\"dataframe\">\n",
       "  <thead>\n",
       "    <tr style=\"text-align: right;\">\n",
       "      <th></th>\n",
       "      <th>Tweet Text</th>\n",
       "      <th>Tokenized_tweets</th>\n",
       "    </tr>\n",
       "  </thead>\n",
       "  <tbody>\n",
       "    <tr>\n",
       "      <th>0</th>\n",
       "      <td>wait real market drop November January</td>\n",
       "      <td>[wait, real, market, drop, November, January]</td>\n",
       "    </tr>\n",
       "    <tr>\n",
       "      <th>1</th>\n",
       "      <td>QNT SUN SEA amp QUANT GIVEAWAY Caribbean one p...</td>\n",
       "      <td>[QNT, SUN, SEA, amp, QUANT, GIVEAWAY, Caribbea...</td>\n",
       "    </tr>\n",
       "    <tr>\n",
       "      <th>2</th>\n",
       "      <td>cool</td>\n",
       "      <td>[cool]</td>\n",
       "    </tr>\n",
       "    <tr>\n",
       "      <th>3</th>\n",
       "      <td>let goooo</td>\n",
       "      <td>[let, goooo]</td>\n",
       "    </tr>\n",
       "    <tr>\n",
       "      <th>4</th>\n",
       "      <td>do not like Bitcoin price action then stop whi...</td>\n",
       "      <td>[do, not, like, Bitcoin, price, action, then, ...</td>\n",
       "    </tr>\n",
       "    <tr>\n",
       "      <th>...</th>\n",
       "      <td>...</td>\n",
       "      <td>...</td>\n",
       "    </tr>\n",
       "    <tr>\n",
       "      <th>129</th>\n",
       "      <td>nft nfts sgb xrpl eth flr sol blockchain crypt...</td>\n",
       "      <td>[nft, nfts, sgb, xrpl, eth, flr, sol, blockcha...</td>\n",
       "    </tr>\n",
       "    <tr>\n",
       "      <th>130</th>\n",
       "      <td>QNT SUN SEA amp QUANT GIVEAWAY Caribbean one p...</td>\n",
       "      <td>[QNT, SUN, SEA, amp, QUANT, GIVEAWAY, Caribbea...</td>\n",
       "    </tr>\n",
       "    <tr>\n",
       "      <th>131</th>\n",
       "      <td>establish fact if crypto world board include</td>\n",
       "      <td>[establish, fact, if, crypto, world, board, in...</td>\n",
       "    </tr>\n",
       "    <tr>\n",
       "      <th>132</th>\n",
       "      <td>QNT SUN SEA amp QUANT GIVEAWAY Caribbean one p...</td>\n",
       "      <td>[QNT, SUN, SEA, amp, QUANT, GIVEAWAY, Caribbea...</td>\n",
       "    </tr>\n",
       "    <tr>\n",
       "      <th>133</th>\n",
       "      <td>QNT SUN SEA amp QUANT GIVEAWAY Caribbean one p...</td>\n",
       "      <td>[QNT, SUN, SEA, amp, QUANT, GIVEAWAY, Caribbea...</td>\n",
       "    </tr>\n",
       "  </tbody>\n",
       "</table>\n",
       "<p>134 rows × 2 columns</p>\n",
       "</div>"
      ],
      "text/plain": [
       "                                            Tweet Text  \\\n",
       "0               wait real market drop November January   \n",
       "1    QNT SUN SEA amp QUANT GIVEAWAY Caribbean one p...   \n",
       "2                                                 cool   \n",
       "3                                            let goooo   \n",
       "4    do not like Bitcoin price action then stop whi...   \n",
       "..                                                 ...   \n",
       "129  nft nfts sgb xrpl eth flr sol blockchain crypt...   \n",
       "130  QNT SUN SEA amp QUANT GIVEAWAY Caribbean one p...   \n",
       "131       establish fact if crypto world board include   \n",
       "132  QNT SUN SEA amp QUANT GIVEAWAY Caribbean one p...   \n",
       "133  QNT SUN SEA amp QUANT GIVEAWAY Caribbean one p...   \n",
       "\n",
       "                                      Tokenized_tweets  \n",
       "0        [wait, real, market, drop, November, January]  \n",
       "1    [QNT, SUN, SEA, amp, QUANT, GIVEAWAY, Caribbea...  \n",
       "2                                               [cool]  \n",
       "3                                         [let, goooo]  \n",
       "4    [do, not, like, Bitcoin, price, action, then, ...  \n",
       "..                                                 ...  \n",
       "129  [nft, nfts, sgb, xrpl, eth, flr, sol, blockcha...  \n",
       "130  [QNT, SUN, SEA, amp, QUANT, GIVEAWAY, Caribbea...  \n",
       "131  [establish, fact, if, crypto, world, board, in...  \n",
       "132  [QNT, SUN, SEA, amp, QUANT, GIVEAWAY, Caribbea...  \n",
       "133  [QNT, SUN, SEA, amp, QUANT, GIVEAWAY, Caribbea...  \n",
       "\n",
       "[134 rows x 2 columns]"
      ]
     },
     "execution_count": 86,
     "metadata": {},
     "output_type": "execute_result"
    }
   ],
   "source": [
    "data"
   ]
  },
  {
   "cell_type": "markdown",
   "id": "ee28f490",
   "metadata": {},
   "source": [
    "# Polarity and Subjectivity of Tweets"
   ]
  },
  {
   "cell_type": "code",
   "execution_count": null,
   "id": "16c90d98",
   "metadata": {},
   "outputs": [],
   "source": []
  },
  {
   "cell_type": "code",
   "execution_count": 87,
   "id": "6e193010",
   "metadata": {
    "scrolled": true
   },
   "outputs": [],
   "source": [
    "def get_subjectivity(text):\n",
    "    return TextBlob(text).sentiment.subjectivity\n",
    "\n",
    "def get_Polarity(text):\n",
    "    return TextBlob(text).sentiment.polarity\n",
    "\n",
    "data[\"Subjectivity\"]=data[\"Tweet Text\"].apply(get_subjectivity)\n",
    "data[\"Polarity\"]=data[\"Tweet Text\"].apply(get_Polarity)"
   ]
  },
  {
   "cell_type": "code",
   "execution_count": 88,
   "id": "9b85ad00",
   "metadata": {},
   "outputs": [
    {
     "data": {
      "text/html": [
       "<div>\n",
       "<style scoped>\n",
       "    .dataframe tbody tr th:only-of-type {\n",
       "        vertical-align: middle;\n",
       "    }\n",
       "\n",
       "    .dataframe tbody tr th {\n",
       "        vertical-align: top;\n",
       "    }\n",
       "\n",
       "    .dataframe thead th {\n",
       "        text-align: right;\n",
       "    }\n",
       "</style>\n",
       "<table border=\"1\" class=\"dataframe\">\n",
       "  <thead>\n",
       "    <tr style=\"text-align: right;\">\n",
       "      <th></th>\n",
       "      <th>Tweet Text</th>\n",
       "      <th>Tokenized_tweets</th>\n",
       "      <th>Subjectivity</th>\n",
       "      <th>Polarity</th>\n",
       "    </tr>\n",
       "  </thead>\n",
       "  <tbody>\n",
       "    <tr>\n",
       "      <th>0</th>\n",
       "      <td>wait real market drop November January</td>\n",
       "      <td>[wait, real, market, drop, November, January]</td>\n",
       "      <td>0.300000</td>\n",
       "      <td>0.20</td>\n",
       "    </tr>\n",
       "    <tr>\n",
       "      <th>1</th>\n",
       "      <td>QNT SUN SEA amp QUANT GIVEAWAY Caribbean one p...</td>\n",
       "      <td>[QNT, SUN, SEA, amp, QUANT, GIVEAWAY, Caribbea...</td>\n",
       "      <td>0.250000</td>\n",
       "      <td>0.55</td>\n",
       "    </tr>\n",
       "    <tr>\n",
       "      <th>2</th>\n",
       "      <td>cool</td>\n",
       "      <td>[cool]</td>\n",
       "      <td>0.650000</td>\n",
       "      <td>0.35</td>\n",
       "    </tr>\n",
       "    <tr>\n",
       "      <th>3</th>\n",
       "      <td>let goooo</td>\n",
       "      <td>[let, goooo]</td>\n",
       "      <td>0.000000</td>\n",
       "      <td>0.00</td>\n",
       "    </tr>\n",
       "    <tr>\n",
       "      <th>4</th>\n",
       "      <td>do not like Bitcoin price action then stop whi...</td>\n",
       "      <td>[do, not, like, Bitcoin, price, action, then, ...</td>\n",
       "      <td>0.085417</td>\n",
       "      <td>0.00</td>\n",
       "    </tr>\n",
       "    <tr>\n",
       "      <th>...</th>\n",
       "      <td>...</td>\n",
       "      <td>...</td>\n",
       "      <td>...</td>\n",
       "      <td>...</td>\n",
       "    </tr>\n",
       "    <tr>\n",
       "      <th>129</th>\n",
       "      <td>nft nfts sgb xrpl eth flr sol blockchain crypt...</td>\n",
       "      <td>[nft, nfts, sgb, xrpl, eth, flr, sol, blockcha...</td>\n",
       "      <td>0.000000</td>\n",
       "      <td>0.00</td>\n",
       "    </tr>\n",
       "    <tr>\n",
       "      <th>130</th>\n",
       "      <td>QNT SUN SEA amp QUANT GIVEAWAY Caribbean one p...</td>\n",
       "      <td>[QNT, SUN, SEA, amp, QUANT, GIVEAWAY, Caribbea...</td>\n",
       "      <td>0.250000</td>\n",
       "      <td>0.55</td>\n",
       "    </tr>\n",
       "    <tr>\n",
       "      <th>131</th>\n",
       "      <td>establish fact if crypto world board include</td>\n",
       "      <td>[establish, fact, if, crypto, world, board, in...</td>\n",
       "      <td>0.000000</td>\n",
       "      <td>0.00</td>\n",
       "    </tr>\n",
       "    <tr>\n",
       "      <th>132</th>\n",
       "      <td>QNT SUN SEA amp QUANT GIVEAWAY Caribbean one p...</td>\n",
       "      <td>[QNT, SUN, SEA, amp, QUANT, GIVEAWAY, Caribbea...</td>\n",
       "      <td>0.250000</td>\n",
       "      <td>0.55</td>\n",
       "    </tr>\n",
       "    <tr>\n",
       "      <th>133</th>\n",
       "      <td>QNT SUN SEA amp QUANT GIVEAWAY Caribbean one p...</td>\n",
       "      <td>[QNT, SUN, SEA, amp, QUANT, GIVEAWAY, Caribbea...</td>\n",
       "      <td>0.250000</td>\n",
       "      <td>0.55</td>\n",
       "    </tr>\n",
       "  </tbody>\n",
       "</table>\n",
       "<p>134 rows × 4 columns</p>\n",
       "</div>"
      ],
      "text/plain": [
       "                                            Tweet Text  \\\n",
       "0               wait real market drop November January   \n",
       "1    QNT SUN SEA amp QUANT GIVEAWAY Caribbean one p...   \n",
       "2                                                 cool   \n",
       "3                                            let goooo   \n",
       "4    do not like Bitcoin price action then stop whi...   \n",
       "..                                                 ...   \n",
       "129  nft nfts sgb xrpl eth flr sol blockchain crypt...   \n",
       "130  QNT SUN SEA amp QUANT GIVEAWAY Caribbean one p...   \n",
       "131       establish fact if crypto world board include   \n",
       "132  QNT SUN SEA amp QUANT GIVEAWAY Caribbean one p...   \n",
       "133  QNT SUN SEA amp QUANT GIVEAWAY Caribbean one p...   \n",
       "\n",
       "                                      Tokenized_tweets  Subjectivity  Polarity  \n",
       "0        [wait, real, market, drop, November, January]      0.300000      0.20  \n",
       "1    [QNT, SUN, SEA, amp, QUANT, GIVEAWAY, Caribbea...      0.250000      0.55  \n",
       "2                                               [cool]      0.650000      0.35  \n",
       "3                                         [let, goooo]      0.000000      0.00  \n",
       "4    [do, not, like, Bitcoin, price, action, then, ...      0.085417      0.00  \n",
       "..                                                 ...           ...       ...  \n",
       "129  [nft, nfts, sgb, xrpl, eth, flr, sol, blockcha...      0.000000      0.00  \n",
       "130  [QNT, SUN, SEA, amp, QUANT, GIVEAWAY, Caribbea...      0.250000      0.55  \n",
       "131  [establish, fact, if, crypto, world, board, in...      0.000000      0.00  \n",
       "132  [QNT, SUN, SEA, amp, QUANT, GIVEAWAY, Caribbea...      0.250000      0.55  \n",
       "133  [QNT, SUN, SEA, amp, QUANT, GIVEAWAY, Caribbea...      0.250000      0.55  \n",
       "\n",
       "[134 rows x 4 columns]"
      ]
     },
     "execution_count": 88,
     "metadata": {},
     "output_type": "execute_result"
    }
   ],
   "source": [
    "data"
   ]
  },
  {
   "cell_type": "code",
   "execution_count": null,
   "id": "f59643ed",
   "metadata": {},
   "outputs": [],
   "source": []
  },
  {
   "cell_type": "markdown",
   "id": "109629d7",
   "metadata": {},
   "source": [
    "# Analyzing Tweets Negative or Positive or Neutral"
   ]
  },
  {
   "cell_type": "code",
   "execution_count": 89,
   "id": "ce185d48",
   "metadata": {},
   "outputs": [],
   "source": [
    "def getAnalysis(score):\n",
    "    if score < 0:\n",
    "        return 'Negative'\n",
    "    elif score == 0:\n",
    "        return 'Neutral'\n",
    "    else:\n",
    "        return 'Positive'\n",
    "    \n",
    "data[\"Analysis\"]=data[\"Polarity\"].apply(getAnalysis)"
   ]
  },
  {
   "cell_type": "markdown",
   "id": "1b1f775f",
   "metadata": {},
   "source": [
    "# Counting Neutral or Positive or Negative Tweets"
   ]
  },
  {
   "cell_type": "code",
   "execution_count": 90,
   "id": "38a41e04",
   "metadata": {
    "scrolled": true
   },
   "outputs": [
    {
     "data": {
      "text/plain": [
       "Positive    78\n",
       "Neutral     50\n",
       "Negative     6\n",
       "Name: Analysis, dtype: int64"
      ]
     },
     "execution_count": 90,
     "metadata": {},
     "output_type": "execute_result"
    }
   ],
   "source": [
    "data[\"Analysis\"].value_counts()"
   ]
  },
  {
   "cell_type": "code",
   "execution_count": 91,
   "id": "c3ddf3b6",
   "metadata": {
    "scrolled": true
   },
   "outputs": [
    {
     "data": {
      "text/html": [
       "<div>\n",
       "<style scoped>\n",
       "    .dataframe tbody tr th:only-of-type {\n",
       "        vertical-align: middle;\n",
       "    }\n",
       "\n",
       "    .dataframe tbody tr th {\n",
       "        vertical-align: top;\n",
       "    }\n",
       "\n",
       "    .dataframe thead th {\n",
       "        text-align: right;\n",
       "    }\n",
       "</style>\n",
       "<table border=\"1\" class=\"dataframe\">\n",
       "  <thead>\n",
       "    <tr style=\"text-align: right;\">\n",
       "      <th></th>\n",
       "      <th>Tweet Text</th>\n",
       "      <th>Tokenized_tweets</th>\n",
       "      <th>Subjectivity</th>\n",
       "      <th>Polarity</th>\n",
       "      <th>Analysis</th>\n",
       "    </tr>\n",
       "  </thead>\n",
       "  <tbody>\n",
       "    <tr>\n",
       "      <th>0</th>\n",
       "      <td>wait real market drop November January</td>\n",
       "      <td>[wait, real, market, drop, November, January]</td>\n",
       "      <td>0.300000</td>\n",
       "      <td>0.20</td>\n",
       "      <td>Positive</td>\n",
       "    </tr>\n",
       "    <tr>\n",
       "      <th>1</th>\n",
       "      <td>QNT SUN SEA amp QUANT GIVEAWAY Caribbean one p...</td>\n",
       "      <td>[QNT, SUN, SEA, amp, QUANT, GIVEAWAY, Caribbea...</td>\n",
       "      <td>0.250000</td>\n",
       "      <td>0.55</td>\n",
       "      <td>Positive</td>\n",
       "    </tr>\n",
       "    <tr>\n",
       "      <th>2</th>\n",
       "      <td>cool</td>\n",
       "      <td>[cool]</td>\n",
       "      <td>0.650000</td>\n",
       "      <td>0.35</td>\n",
       "      <td>Positive</td>\n",
       "    </tr>\n",
       "    <tr>\n",
       "      <th>3</th>\n",
       "      <td>let goooo</td>\n",
       "      <td>[let, goooo]</td>\n",
       "      <td>0.000000</td>\n",
       "      <td>0.00</td>\n",
       "      <td>Neutral</td>\n",
       "    </tr>\n",
       "    <tr>\n",
       "      <th>4</th>\n",
       "      <td>do not like Bitcoin price action then stop whi...</td>\n",
       "      <td>[do, not, like, Bitcoin, price, action, then, ...</td>\n",
       "      <td>0.085417</td>\n",
       "      <td>0.00</td>\n",
       "      <td>Neutral</td>\n",
       "    </tr>\n",
       "    <tr>\n",
       "      <th>...</th>\n",
       "      <td>...</td>\n",
       "      <td>...</td>\n",
       "      <td>...</td>\n",
       "      <td>...</td>\n",
       "      <td>...</td>\n",
       "    </tr>\n",
       "    <tr>\n",
       "      <th>129</th>\n",
       "      <td>nft nfts sgb xrpl eth flr sol blockchain crypt...</td>\n",
       "      <td>[nft, nfts, sgb, xrpl, eth, flr, sol, blockcha...</td>\n",
       "      <td>0.000000</td>\n",
       "      <td>0.00</td>\n",
       "      <td>Neutral</td>\n",
       "    </tr>\n",
       "    <tr>\n",
       "      <th>130</th>\n",
       "      <td>QNT SUN SEA amp QUANT GIVEAWAY Caribbean one p...</td>\n",
       "      <td>[QNT, SUN, SEA, amp, QUANT, GIVEAWAY, Caribbea...</td>\n",
       "      <td>0.250000</td>\n",
       "      <td>0.55</td>\n",
       "      <td>Positive</td>\n",
       "    </tr>\n",
       "    <tr>\n",
       "      <th>131</th>\n",
       "      <td>establish fact if crypto world board include</td>\n",
       "      <td>[establish, fact, if, crypto, world, board, in...</td>\n",
       "      <td>0.000000</td>\n",
       "      <td>0.00</td>\n",
       "      <td>Neutral</td>\n",
       "    </tr>\n",
       "    <tr>\n",
       "      <th>132</th>\n",
       "      <td>QNT SUN SEA amp QUANT GIVEAWAY Caribbean one p...</td>\n",
       "      <td>[QNT, SUN, SEA, amp, QUANT, GIVEAWAY, Caribbea...</td>\n",
       "      <td>0.250000</td>\n",
       "      <td>0.55</td>\n",
       "      <td>Positive</td>\n",
       "    </tr>\n",
       "    <tr>\n",
       "      <th>133</th>\n",
       "      <td>QNT SUN SEA amp QUANT GIVEAWAY Caribbean one p...</td>\n",
       "      <td>[QNT, SUN, SEA, amp, QUANT, GIVEAWAY, Caribbea...</td>\n",
       "      <td>0.250000</td>\n",
       "      <td>0.55</td>\n",
       "      <td>Positive</td>\n",
       "    </tr>\n",
       "  </tbody>\n",
       "</table>\n",
       "<p>134 rows × 5 columns</p>\n",
       "</div>"
      ],
      "text/plain": [
       "                                            Tweet Text  \\\n",
       "0               wait real market drop November January   \n",
       "1    QNT SUN SEA amp QUANT GIVEAWAY Caribbean one p...   \n",
       "2                                                 cool   \n",
       "3                                            let goooo   \n",
       "4    do not like Bitcoin price action then stop whi...   \n",
       "..                                                 ...   \n",
       "129  nft nfts sgb xrpl eth flr sol blockchain crypt...   \n",
       "130  QNT SUN SEA amp QUANT GIVEAWAY Caribbean one p...   \n",
       "131       establish fact if crypto world board include   \n",
       "132  QNT SUN SEA amp QUANT GIVEAWAY Caribbean one p...   \n",
       "133  QNT SUN SEA amp QUANT GIVEAWAY Caribbean one p...   \n",
       "\n",
       "                                      Tokenized_tweets  Subjectivity  \\\n",
       "0        [wait, real, market, drop, November, January]      0.300000   \n",
       "1    [QNT, SUN, SEA, amp, QUANT, GIVEAWAY, Caribbea...      0.250000   \n",
       "2                                               [cool]      0.650000   \n",
       "3                                         [let, goooo]      0.000000   \n",
       "4    [do, not, like, Bitcoin, price, action, then, ...      0.085417   \n",
       "..                                                 ...           ...   \n",
       "129  [nft, nfts, sgb, xrpl, eth, flr, sol, blockcha...      0.000000   \n",
       "130  [QNT, SUN, SEA, amp, QUANT, GIVEAWAY, Caribbea...      0.250000   \n",
       "131  [establish, fact, if, crypto, world, board, in...      0.000000   \n",
       "132  [QNT, SUN, SEA, amp, QUANT, GIVEAWAY, Caribbea...      0.250000   \n",
       "133  [QNT, SUN, SEA, amp, QUANT, GIVEAWAY, Caribbea...      0.250000   \n",
       "\n",
       "     Polarity  Analysis  \n",
       "0        0.20  Positive  \n",
       "1        0.55  Positive  \n",
       "2        0.35  Positive  \n",
       "3        0.00   Neutral  \n",
       "4        0.00   Neutral  \n",
       "..        ...       ...  \n",
       "129      0.00   Neutral  \n",
       "130      0.55  Positive  \n",
       "131      0.00   Neutral  \n",
       "132      0.55  Positive  \n",
       "133      0.55  Positive  \n",
       "\n",
       "[134 rows x 5 columns]"
      ]
     },
     "execution_count": 91,
     "metadata": {},
     "output_type": "execute_result"
    }
   ],
   "source": [
    "data"
   ]
  },
  {
   "cell_type": "markdown",
   "id": "2611ca76",
   "metadata": {},
   "source": [
    "# Visualizing Tweets "
   ]
  },
  {
   "cell_type": "code",
   "execution_count": 92,
   "id": "10add625",
   "metadata": {},
   "outputs": [
    {
     "data": {
      "image/png": "[encoded data removed]",
      "text/plain": [
       "<Figure size 432x288 with 1 Axes>"
      ]
     },
     "metadata": {
      "needs_background": "light"
     },
     "output_type": "display_data"
    }
   ],
   "source": [
    "import matplotlib.pyplot as plt\n",
    "ptweets=data[data.Analysis=='Positive']\n",
    "ptweets=ptweets['Tweet Text']\n",
    "round((ptweets.shape[0]/data.shape[0])*100,1)\n",
    "## get percentage of negative tweets\n",
    "ntweets=data[data.Analysis=='Negative']\n",
    "round((ntweets.shape[0]/data.shape[0])*100,1)\n",
    "## show value counts\n",
    "data['Analysis'].value_counts()\n",
    "## plot visulatisation of count\n",
    "plt.title('Sentiment Analysis')\n",
    "plt.xlabel('Sentiments') \n",
    "plt.ylabel('Counts')\n",
    "data['Analysis'].value_counts().plot(kind='bar')\n",
    "plt.show()"
   ]
  },
  {
   "cell_type": "markdown",
   "id": "23aa6a19",
   "metadata": {},
   "source": [
    "# Words Cloud Visualization"
   ]
  },
  {
   "cell_type": "code",
   "execution_count": 93,
   "id": "1164d894",
   "metadata": {},
   "outputs": [
    {
     "data": {
      "image/png": "[encoded data removed]",
      "text/plain": [
       "<Figure size 432x288 with 1 Axes>"
      ]
     },
     "metadata": {
      "needs_background": "light"
     },
     "output_type": "display_data"
    }
   ],
   "source": [
    "from wordcloud import WordCloud\n",
    "import matplotlib.pyplot as plt\n",
    "%matplotlib inline\n",
    "\n",
    "text=' '.join(data[\"Tweet Text\"])\n",
    "len(text)\n",
    "\n",
    "wc=WordCloud(width=800, height=400).generate(text)\n",
    "plt.imshow(wc)\n",
    "plt.axis(\"off\")\n",
    "plt.show()"
   ]
  },
  {
   "cell_type": "code",
   "execution_count": null,
   "id": "e261f74b",
   "metadata": {},
   "outputs": [],
   "source": []
  },
  {
   "cell_type": "markdown",
   "id": "b8e3ea84",
   "metadata": {},
   "source": [
    "# Feature Engineering"
   ]
  },
  {
   "cell_type": "code",
   "execution_count": 94,
   "id": "a16f5037",
   "metadata": {
    "scrolled": true
   },
   "outputs": [],
   "source": [
    "\n",
    "x1=data[\"Tweet Text\"]\n",
    "y=data[\"Analysis\"]\n"
   ]
  },
  {
   "cell_type": "markdown",
   "id": "317b8755",
   "metadata": {},
   "source": [
    "# Vectorizing Text to Vectors"
   ]
  },
  {
   "cell_type": "code",
   "execution_count": 95,
   "id": "67b2f072",
   "metadata": {},
   "outputs": [],
   "source": [
    "from sklearn.feature_extraction.text import TfidfVectorizer\n",
    "vectorizer=TfidfVectorizer()\n",
    "x=vectorizer.fit_transform(x1)\n",
    "\n",
    "features_names=vectorizer.get_feature_names()"
   ]
  },
  {
   "cell_type": "code",
   "execution_count": 96,
   "id": "e524dd04",
   "metadata": {
    "scrolled": true
   },
   "outputs": [
    {
     "data": {
      "text/plain": [
       "305"
      ]
     },
     "execution_count": 96,
     "metadata": {},
     "output_type": "execute_result"
    }
   ],
   "source": [
    "len(features_names)"
   ]
  },
  {
   "cell_type": "markdown",
   "id": "01dd61b8",
   "metadata": {},
   "source": [
    "+ Converting Vectorized Data to Array because Model doesn't Understands Sparse Matrix Data generated from TFID Vectorizer"
   ]
  },
  {
   "cell_type": "code",
   "execution_count": 97,
   "id": "997e5777",
   "metadata": {},
   "outputs": [
    {
     "data": {
      "text/plain": [
       "array([[0., 0., 0., ..., 0., 0., 0.],\n",
       "       [0., 0., 0., ..., 0., 0., 0.],\n",
       "       [0., 0., 0., ..., 0., 0., 0.],\n",
       "       ...,\n",
       "       [0., 0., 0., ..., 0., 0., 0.],\n",
       "       [0., 0., 0., ..., 0., 0., 0.],\n",
       "       [0., 0., 0., ..., 0., 0., 0.]])"
      ]
     },
     "execution_count": 97,
     "metadata": {},
     "output_type": "execute_result"
    }
   ],
   "source": [
    "x=x.toarray()\n",
    "x"
   ]
  },
  {
   "cell_type": "code",
   "execution_count": 98,
   "id": "4afd50b9",
   "metadata": {
    "scrolled": true
   },
   "outputs": [
    {
     "data": {
      "text/plain": [
       "(134, 305)"
      ]
     },
     "execution_count": 98,
     "metadata": {},
     "output_type": "execute_result"
    }
   ],
   "source": [
    "x.shape\n"
   ]
  },
  {
   "cell_type": "code",
   "execution_count": 99,
   "id": "de38d4db",
   "metadata": {},
   "outputs": [
    {
     "data": {
      "text/html": [
       "<div>\n",
       "<style scoped>\n",
       "    .dataframe tbody tr th:only-of-type {\n",
       "        vertical-align: middle;\n",
       "    }\n",
       "\n",
       "    .dataframe tbody tr th {\n",
       "        vertical-align: top;\n",
       "    }\n",
       "\n",
       "    .dataframe thead th {\n",
       "        text-align: right;\n",
       "    }\n",
       "</style>\n",
       "<table border=\"1\" class=\"dataframe\">\n",
       "  <thead>\n",
       "    <tr style=\"text-align: right;\">\n",
       "      <th></th>\n",
       "      <th>able</th>\n",
       "      <th>accurate</th>\n",
       "      <th>action</th>\n",
       "      <th>ad</th>\n",
       "      <th>add</th>\n",
       "      <th>adress</th>\n",
       "      <th>ads</th>\n",
       "      <th>adscoin</th>\n",
       "      <th>adsexchange</th>\n",
       "      <th>after</th>\n",
       "      <th>...</th>\n",
       "      <th>worlds</th>\n",
       "      <th>worry</th>\n",
       "      <th>worth</th>\n",
       "      <th>xrp</th>\n",
       "      <th>xrpl</th>\n",
       "      <th>yeah</th>\n",
       "      <th>yeess</th>\n",
       "      <th>yesterday</th>\n",
       "      <th>you</th>\n",
       "      <th>zoom</th>\n",
       "    </tr>\n",
       "  </thead>\n",
       "  <tbody>\n",
       "    <tr>\n",
       "      <th>0</th>\n",
       "      <td>0.0</td>\n",
       "      <td>0.0</td>\n",
       "      <td>0.000000</td>\n",
       "      <td>0.0</td>\n",
       "      <td>0.0</td>\n",
       "      <td>0.0</td>\n",
       "      <td>0.0</td>\n",
       "      <td>0.0</td>\n",
       "      <td>0.0</td>\n",
       "      <td>0.0</td>\n",
       "      <td>...</td>\n",
       "      <td>0.0</td>\n",
       "      <td>0.0</td>\n",
       "      <td>0.000000</td>\n",
       "      <td>0.0</td>\n",
       "      <td>0.000000</td>\n",
       "      <td>0.0</td>\n",
       "      <td>0.0</td>\n",
       "      <td>0.0</td>\n",
       "      <td>0.0</td>\n",
       "      <td>0.0</td>\n",
       "    </tr>\n",
       "    <tr>\n",
       "      <th>1</th>\n",
       "      <td>0.0</td>\n",
       "      <td>0.0</td>\n",
       "      <td>0.000000</td>\n",
       "      <td>0.0</td>\n",
       "      <td>0.0</td>\n",
       "      <td>0.0</td>\n",
       "      <td>0.0</td>\n",
       "      <td>0.0</td>\n",
       "      <td>0.0</td>\n",
       "      <td>0.0</td>\n",
       "      <td>...</td>\n",
       "      <td>0.0</td>\n",
       "      <td>0.0</td>\n",
       "      <td>0.237907</td>\n",
       "      <td>0.0</td>\n",
       "      <td>0.000000</td>\n",
       "      <td>0.0</td>\n",
       "      <td>0.0</td>\n",
       "      <td>0.0</td>\n",
       "      <td>0.0</td>\n",
       "      <td>0.0</td>\n",
       "    </tr>\n",
       "    <tr>\n",
       "      <th>2</th>\n",
       "      <td>0.0</td>\n",
       "      <td>0.0</td>\n",
       "      <td>0.000000</td>\n",
       "      <td>0.0</td>\n",
       "      <td>0.0</td>\n",
       "      <td>0.0</td>\n",
       "      <td>0.0</td>\n",
       "      <td>0.0</td>\n",
       "      <td>0.0</td>\n",
       "      <td>0.0</td>\n",
       "      <td>...</td>\n",
       "      <td>0.0</td>\n",
       "      <td>0.0</td>\n",
       "      <td>0.000000</td>\n",
       "      <td>0.0</td>\n",
       "      <td>0.000000</td>\n",
       "      <td>0.0</td>\n",
       "      <td>0.0</td>\n",
       "      <td>0.0</td>\n",
       "      <td>0.0</td>\n",
       "      <td>0.0</td>\n",
       "    </tr>\n",
       "    <tr>\n",
       "      <th>3</th>\n",
       "      <td>0.0</td>\n",
       "      <td>0.0</td>\n",
       "      <td>0.000000</td>\n",
       "      <td>0.0</td>\n",
       "      <td>0.0</td>\n",
       "      <td>0.0</td>\n",
       "      <td>0.0</td>\n",
       "      <td>0.0</td>\n",
       "      <td>0.0</td>\n",
       "      <td>0.0</td>\n",
       "      <td>...</td>\n",
       "      <td>0.0</td>\n",
       "      <td>0.0</td>\n",
       "      <td>0.000000</td>\n",
       "      <td>0.0</td>\n",
       "      <td>0.000000</td>\n",
       "      <td>0.0</td>\n",
       "      <td>0.0</td>\n",
       "      <td>0.0</td>\n",
       "      <td>0.0</td>\n",
       "      <td>0.0</td>\n",
       "    </tr>\n",
       "    <tr>\n",
       "      <th>4</th>\n",
       "      <td>0.0</td>\n",
       "      <td>0.0</td>\n",
       "      <td>0.281416</td>\n",
       "      <td>0.0</td>\n",
       "      <td>0.0</td>\n",
       "      <td>0.0</td>\n",
       "      <td>0.0</td>\n",
       "      <td>0.0</td>\n",
       "      <td>0.0</td>\n",
       "      <td>0.0</td>\n",
       "      <td>...</td>\n",
       "      <td>0.0</td>\n",
       "      <td>0.0</td>\n",
       "      <td>0.000000</td>\n",
       "      <td>0.0</td>\n",
       "      <td>0.000000</td>\n",
       "      <td>0.0</td>\n",
       "      <td>0.0</td>\n",
       "      <td>0.0</td>\n",
       "      <td>0.0</td>\n",
       "      <td>0.0</td>\n",
       "    </tr>\n",
       "    <tr>\n",
       "      <th>...</th>\n",
       "      <td>...</td>\n",
       "      <td>...</td>\n",
       "      <td>...</td>\n",
       "      <td>...</td>\n",
       "      <td>...</td>\n",
       "      <td>...</td>\n",
       "      <td>...</td>\n",
       "      <td>...</td>\n",
       "      <td>...</td>\n",
       "      <td>...</td>\n",
       "      <td>...</td>\n",
       "      <td>...</td>\n",
       "      <td>...</td>\n",
       "      <td>...</td>\n",
       "      <td>...</td>\n",
       "      <td>...</td>\n",
       "      <td>...</td>\n",
       "      <td>...</td>\n",
       "      <td>...</td>\n",
       "      <td>...</td>\n",
       "      <td>...</td>\n",
       "    </tr>\n",
       "    <tr>\n",
       "      <th>129</th>\n",
       "      <td>0.0</td>\n",
       "      <td>0.0</td>\n",
       "      <td>0.000000</td>\n",
       "      <td>0.0</td>\n",
       "      <td>0.0</td>\n",
       "      <td>0.0</td>\n",
       "      <td>0.0</td>\n",
       "      <td>0.0</td>\n",
       "      <td>0.0</td>\n",
       "      <td>0.0</td>\n",
       "      <td>...</td>\n",
       "      <td>0.0</td>\n",
       "      <td>0.0</td>\n",
       "      <td>0.000000</td>\n",
       "      <td>0.0</td>\n",
       "      <td>0.263621</td>\n",
       "      <td>0.0</td>\n",
       "      <td>0.0</td>\n",
       "      <td>0.0</td>\n",
       "      <td>0.0</td>\n",
       "      <td>0.0</td>\n",
       "    </tr>\n",
       "    <tr>\n",
       "      <th>130</th>\n",
       "      <td>0.0</td>\n",
       "      <td>0.0</td>\n",
       "      <td>0.000000</td>\n",
       "      <td>0.0</td>\n",
       "      <td>0.0</td>\n",
       "      <td>0.0</td>\n",
       "      <td>0.0</td>\n",
       "      <td>0.0</td>\n",
       "      <td>0.0</td>\n",
       "      <td>0.0</td>\n",
       "      <td>...</td>\n",
       "      <td>0.0</td>\n",
       "      <td>0.0</td>\n",
       "      <td>0.237907</td>\n",
       "      <td>0.0</td>\n",
       "      <td>0.000000</td>\n",
       "      <td>0.0</td>\n",
       "      <td>0.0</td>\n",
       "      <td>0.0</td>\n",
       "      <td>0.0</td>\n",
       "      <td>0.0</td>\n",
       "    </tr>\n",
       "    <tr>\n",
       "      <th>131</th>\n",
       "      <td>0.0</td>\n",
       "      <td>0.0</td>\n",
       "      <td>0.000000</td>\n",
       "      <td>0.0</td>\n",
       "      <td>0.0</td>\n",
       "      <td>0.0</td>\n",
       "      <td>0.0</td>\n",
       "      <td>0.0</td>\n",
       "      <td>0.0</td>\n",
       "      <td>0.0</td>\n",
       "      <td>...</td>\n",
       "      <td>0.0</td>\n",
       "      <td>0.0</td>\n",
       "      <td>0.000000</td>\n",
       "      <td>0.0</td>\n",
       "      <td>0.000000</td>\n",
       "      <td>0.0</td>\n",
       "      <td>0.0</td>\n",
       "      <td>0.0</td>\n",
       "      <td>0.0</td>\n",
       "      <td>0.0</td>\n",
       "    </tr>\n",
       "    <tr>\n",
       "      <th>132</th>\n",
       "      <td>0.0</td>\n",
       "      <td>0.0</td>\n",
       "      <td>0.000000</td>\n",
       "      <td>0.0</td>\n",
       "      <td>0.0</td>\n",
       "      <td>0.0</td>\n",
       "      <td>0.0</td>\n",
       "      <td>0.0</td>\n",
       "      <td>0.0</td>\n",
       "      <td>0.0</td>\n",
       "      <td>...</td>\n",
       "      <td>0.0</td>\n",
       "      <td>0.0</td>\n",
       "      <td>0.237907</td>\n",
       "      <td>0.0</td>\n",
       "      <td>0.000000</td>\n",
       "      <td>0.0</td>\n",
       "      <td>0.0</td>\n",
       "      <td>0.0</td>\n",
       "      <td>0.0</td>\n",
       "      <td>0.0</td>\n",
       "    </tr>\n",
       "    <tr>\n",
       "      <th>133</th>\n",
       "      <td>0.0</td>\n",
       "      <td>0.0</td>\n",
       "      <td>0.000000</td>\n",
       "      <td>0.0</td>\n",
       "      <td>0.0</td>\n",
       "      <td>0.0</td>\n",
       "      <td>0.0</td>\n",
       "      <td>0.0</td>\n",
       "      <td>0.0</td>\n",
       "      <td>0.0</td>\n",
       "      <td>...</td>\n",
       "      <td>0.0</td>\n",
       "      <td>0.0</td>\n",
       "      <td>0.237907</td>\n",
       "      <td>0.0</td>\n",
       "      <td>0.000000</td>\n",
       "      <td>0.0</td>\n",
       "      <td>0.0</td>\n",
       "      <td>0.0</td>\n",
       "      <td>0.0</td>\n",
       "      <td>0.0</td>\n",
       "    </tr>\n",
       "  </tbody>\n",
       "</table>\n",
       "<p>134 rows × 305 columns</p>\n",
       "</div>"
      ],
      "text/plain": [
       "     able  accurate    action   ad  add  adress  ads  adscoin  adsexchange  \\\n",
       "0     0.0       0.0  0.000000  0.0  0.0     0.0  0.0      0.0          0.0   \n",
       "1     0.0       0.0  0.000000  0.0  0.0     0.0  0.0      0.0          0.0   \n",
       "2     0.0       0.0  0.000000  0.0  0.0     0.0  0.0      0.0          0.0   \n",
       "3     0.0       0.0  0.000000  0.0  0.0     0.0  0.0      0.0          0.0   \n",
       "4     0.0       0.0  0.281416  0.0  0.0     0.0  0.0      0.0          0.0   \n",
       "..    ...       ...       ...  ...  ...     ...  ...      ...          ...   \n",
       "129   0.0       0.0  0.000000  0.0  0.0     0.0  0.0      0.0          0.0   \n",
       "130   0.0       0.0  0.000000  0.0  0.0     0.0  0.0      0.0          0.0   \n",
       "131   0.0       0.0  0.000000  0.0  0.0     0.0  0.0      0.0          0.0   \n",
       "132   0.0       0.0  0.000000  0.0  0.0     0.0  0.0      0.0          0.0   \n",
       "133   0.0       0.0  0.000000  0.0  0.0     0.0  0.0      0.0          0.0   \n",
       "\n",
       "     after  ...  worlds  worry     worth  xrp      xrpl  yeah  yeess  \\\n",
       "0      0.0  ...     0.0    0.0  0.000000  0.0  0.000000   0.0    0.0   \n",
       "1      0.0  ...     0.0    0.0  0.237907  0.0  0.000000   0.0    0.0   \n",
       "2      0.0  ...     0.0    0.0  0.000000  0.0  0.000000   0.0    0.0   \n",
       "3      0.0  ...     0.0    0.0  0.000000  0.0  0.000000   0.0    0.0   \n",
       "4      0.0  ...     0.0    0.0  0.000000  0.0  0.000000   0.0    0.0   \n",
       "..     ...  ...     ...    ...       ...  ...       ...   ...    ...   \n",
       "129    0.0  ...     0.0    0.0  0.000000  0.0  0.263621   0.0    0.0   \n",
       "130    0.0  ...     0.0    0.0  0.237907  0.0  0.000000   0.0    0.0   \n",
       "131    0.0  ...     0.0    0.0  0.000000  0.0  0.000000   0.0    0.0   \n",
       "132    0.0  ...     0.0    0.0  0.237907  0.0  0.000000   0.0    0.0   \n",
       "133    0.0  ...     0.0    0.0  0.237907  0.0  0.000000   0.0    0.0   \n",
       "\n",
       "     yesterday  you  zoom  \n",
       "0          0.0  0.0   0.0  \n",
       "1          0.0  0.0   0.0  \n",
       "2          0.0  0.0   0.0  \n",
       "3          0.0  0.0   0.0  \n",
       "4          0.0  0.0   0.0  \n",
       "..         ...  ...   ...  \n",
       "129        0.0  0.0   0.0  \n",
       "130        0.0  0.0   0.0  \n",
       "131        0.0  0.0   0.0  \n",
       "132        0.0  0.0   0.0  \n",
       "133        0.0  0.0   0.0  \n",
       "\n",
       "[134 rows x 305 columns]"
      ]
     },
     "execution_count": 99,
     "metadata": {},
     "output_type": "execute_result"
    }
   ],
   "source": [
    "data2 = pd.DataFrame(data=x,columns=features_names)\n",
    "x=data2\n",
    "x"
   ]
  },
  {
   "cell_type": "markdown",
   "id": "2719aefc",
   "metadata": {},
   "source": [
    "# Smote method to Balance data"
   ]
  },
  {
   "cell_type": "code",
   "execution_count": null,
   "id": "a40f0f24",
   "metadata": {},
   "outputs": [],
   "source": []
  },
  {
   "cell_type": "code",
   "execution_count": 100,
   "id": "55d20caf",
   "metadata": {},
   "outputs": [],
   "source": [
    "from imblearn.over_sampling import SMOTE\n",
    "\n",
    "oversample = SMOTE()\n",
    "x, y = oversample.fit_resample(x, y)"
   ]
  },
  {
   "cell_type": "code",
   "execution_count": 101,
   "id": "f9564254",
   "metadata": {
    "scrolled": true
   },
   "outputs": [
    {
     "data": {
      "text/plain": [
       "Positive    78\n",
       "Neutral     78\n",
       "Negative    78\n",
       "Name: Analysis, dtype: int64"
      ]
     },
     "execution_count": 101,
     "metadata": {},
     "output_type": "execute_result"
    }
   ],
   "source": [
    "y.value_counts()"
   ]
  },
  {
   "cell_type": "markdown",
   "id": "121a984c",
   "metadata": {},
   "source": [
    "# Splitting Data into Train and Test"
   ]
  },
  {
   "cell_type": "code",
   "execution_count": null,
   "id": "c74035a6",
   "metadata": {},
   "outputs": [],
   "source": []
  },
  {
   "cell_type": "code",
   "execution_count": 102,
   "id": "ec3bae18",
   "metadata": {},
   "outputs": [],
   "source": [
    "from sklearn.model_selection import train_test_split\n",
    "x_train,x_test,y_train,y_test=train_test_split(x,y,random_state=0,train_size=0.80)\n"
   ]
  },
  {
   "cell_type": "code",
   "execution_count": null,
   "id": "dc6324c5",
   "metadata": {},
   "outputs": [],
   "source": []
  },
  {
   "cell_type": "code",
   "execution_count": 103,
   "id": "70284718",
   "metadata": {},
   "outputs": [],
   "source": [
    "from sklearn.feature_selection import VarianceThreshold, mutual_info_classif,mutual_info_regression\n",
    "from sklearn.feature_selection import SelectKBest,SelectPercentile"
   ]
  },
  {
   "cell_type": "code",
   "execution_count": 104,
   "id": "5251e18f",
   "metadata": {},
   "outputs": [
    {
     "data": {
      "text/plain": [
       "(187, 305)"
      ]
     },
     "execution_count": 104,
     "metadata": {},
     "output_type": "execute_result"
    }
   ],
   "source": [
    "x_train.shape"
   ]
  },
  {
   "cell_type": "markdown",
   "id": "5b86a0d9",
   "metadata": {},
   "source": [
    "# Constant Features Removal"
   ]
  },
  {
   "cell_type": "code",
   "execution_count": 105,
   "id": "1f8fe3d4",
   "metadata": {},
   "outputs": [
    {
     "data": {
      "text/plain": [
       "VarianceThreshold(threshold=0)"
      ]
     },
     "execution_count": 105,
     "metadata": {},
     "output_type": "execute_result"
    }
   ],
   "source": [
    "const_filter=VarianceThreshold(threshold=0)\n",
    "const_filter.fit(x_train)"
   ]
  },
  {
   "cell_type": "code",
   "execution_count": 106,
   "id": "34ee5fa7",
   "metadata": {},
   "outputs": [
    {
     "data": {
      "text/plain": [
       "302"
      ]
     },
     "execution_count": 106,
     "metadata": {},
     "output_type": "execute_result"
    }
   ],
   "source": [
    "# After removing of constant features from training set\n",
    "const_filter.get_support().sum()"
   ]
  },
  {
   "cell_type": "code",
   "execution_count": 107,
   "id": "c21b5590",
   "metadata": {},
   "outputs": [
    {
     "data": {
      "text/plain": [
       "3"
      ]
     },
     "execution_count": 107,
     "metadata": {},
     "output_type": "execute_result"
    }
   ],
   "source": [
    "#columns that were constants\n",
    "\n",
    "constant_features=[not temp for temp in const_filter.get_support()]\n",
    "\n",
    "len(x.columns[constant_features])"
   ]
  },
  {
   "cell_type": "code",
   "execution_count": 108,
   "id": "05ac3291",
   "metadata": {},
   "outputs": [
    {
     "data": {
      "text/plain": [
       "(187, 302)"
      ]
     },
     "execution_count": 108,
     "metadata": {},
     "output_type": "execute_result"
    }
   ],
   "source": [
    "# remove all constant features from dataset\n",
    "\n",
    "x_train_filtered=const_filter.transform(x_train)\n",
    "x_test_filtered=const_filter.transform(x_test)\n",
    "x_train_filtered.shape\n"
   ]
  },
  {
   "cell_type": "code",
   "execution_count": 109,
   "id": "deef231b",
   "metadata": {
    "scrolled": true
   },
   "outputs": [
    {
     "data": {
      "text/plain": [
       "((187, 302), (187, 305))"
      ]
     },
     "execution_count": 109,
     "metadata": {},
     "output_type": "execute_result"
    }
   ],
   "source": [
    "# Comparing\n",
    "x_train_filtered.shape,x_train.shape"
   ]
  },
  {
   "cell_type": "code",
   "execution_count": null,
   "id": "72a02751",
   "metadata": {},
   "outputs": [],
   "source": []
  },
  {
   "cell_type": "markdown",
   "id": "3ca698b9",
   "metadata": {},
   "source": [
    "# Removing Duplicates Features"
   ]
  },
  {
   "cell_type": "code",
   "execution_count": 110,
   "id": "83561258",
   "metadata": {},
   "outputs": [],
   "source": [
    "x_train_dupl=x_train_filtered.T\n",
    "x_test_dupl=x_test_filtered.T"
   ]
  },
  {
   "cell_type": "code",
   "execution_count": 111,
   "id": "409f0295",
   "metadata": {},
   "outputs": [
    {
     "data": {
      "text/plain": [
       "numpy.ndarray"
      ]
     },
     "execution_count": 111,
     "metadata": {},
     "output_type": "execute_result"
    }
   ],
   "source": [
    "type(x_train_dupl)"
   ]
  },
  {
   "cell_type": "code",
   "execution_count": 112,
   "id": "ea436124",
   "metadata": {},
   "outputs": [],
   "source": [
    "x_train_dupl=pd.DataFrame(x_train_dupl)\n",
    "x_test_dupl=pd.DataFrame(x_test_dupl)"
   ]
  },
  {
   "cell_type": "code",
   "execution_count": 113,
   "id": "859a9f6d",
   "metadata": {},
   "outputs": [
    {
     "data": {
      "text/plain": [
       "0      False\n",
       "1      False\n",
       "2      False\n",
       "3      False\n",
       "4      False\n",
       "       ...  \n",
       "297     True\n",
       "298    False\n",
       "299     True\n",
       "300    False\n",
       "301     True\n",
       "Length: 302, dtype: bool"
      ]
     },
     "execution_count": 113,
     "metadata": {},
     "output_type": "execute_result"
    }
   ],
   "source": [
    "#Duplicated Features\n",
    "duplicate_features=x_train_dupl.duplicated()\n",
    "duplicate_features"
   ]
  },
  {
   "cell_type": "code",
   "execution_count": 114,
   "id": "3c8c2945",
   "metadata": {},
   "outputs": [],
   "source": [
    "#Features not Duplicated\n",
    "\n",
    "features_to_keep=[not index for index in duplicate_features]"
   ]
  },
  {
   "cell_type": "code",
   "execution_count": 115,
   "id": "049a3360",
   "metadata": {},
   "outputs": [],
   "source": [
    "x_train_final=x_train_dupl[features_to_keep].T\n",
    "x_test_final=x_test_dupl[features_to_keep].T"
   ]
  },
  {
   "cell_type": "code",
   "execution_count": 116,
   "id": "67fa8472",
   "metadata": {},
   "outputs": [
    {
     "data": {
      "text/plain": [
       "(187, 99)"
      ]
     },
     "execution_count": 116,
     "metadata": {},
     "output_type": "execute_result"
    }
   ],
   "source": [
    "x_train_final.shape"
   ]
  },
  {
   "cell_type": "code",
   "execution_count": 117,
   "id": "a53fc3e1",
   "metadata": {},
   "outputs": [
    {
     "data": {
      "text/plain": [
       "(47, 99)"
      ]
     },
     "execution_count": 117,
     "metadata": {},
     "output_type": "execute_result"
    }
   ],
   "source": [
    "x_test_final.shape"
   ]
  },
  {
   "cell_type": "markdown",
   "id": "96fef842",
   "metadata": {},
   "source": [
    "# Cleaned data for training and Testing"
   ]
  },
  {
   "cell_type": "code",
   "execution_count": 118,
   "id": "723df582",
   "metadata": {
    "scrolled": true
   },
   "outputs": [
    {
     "data": {
      "text/plain": [
       "((187, 99), (47, 99))"
      ]
     },
     "execution_count": 118,
     "metadata": {},
     "output_type": "execute_result"
    }
   ],
   "source": [
    "x_train_final.shape,x_test_final.shape"
   ]
  },
  {
   "cell_type": "code",
   "execution_count": null,
   "id": "bdecc4d1",
   "metadata": {},
   "outputs": [],
   "source": []
  },
  {
   "cell_type": "markdown",
   "id": "4c4a762e",
   "metadata": {},
   "source": [
    "# Gradient Boosting Classifier"
   ]
  },
  {
   "cell_type": "code",
   "execution_count": 119,
   "id": "545654fd",
   "metadata": {},
   "outputs": [
    {
     "data": {
      "text/plain": [
       "0.9361702127659575"
      ]
     },
     "execution_count": 119,
     "metadata": {},
     "output_type": "execute_result"
    }
   ],
   "source": [
    "from sklearn.ensemble import GradientBoostingClassifier\n",
    "model2=GradientBoostingClassifier(n_estimators=100, learning_rate=1.0,max_depth=16, random_state=15)\n",
    "model2.fit(x_train_final, y_train)\n",
    "model2.score(x_test_final, y_test)"
   ]
  },
  {
   "cell_type": "markdown",
   "id": "bfa15d62",
   "metadata": {},
   "source": [
    "# Classification Report"
   ]
  },
  {
   "cell_type": "code",
   "execution_count": null,
   "id": "16292ebb",
   "metadata": {},
   "outputs": [],
   "source": []
  },
  {
   "cell_type": "code",
   "execution_count": 120,
   "id": "b5210a9e",
   "metadata": {},
   "outputs": [],
   "source": [
    "predictions=model2.predict(x_test_final)"
   ]
  },
  {
   "cell_type": "code",
   "execution_count": 121,
   "id": "146e4305",
   "metadata": {},
   "outputs": [
    {
     "name": "stdout",
     "output_type": "stream",
     "text": [
      "              precision    recall  f1-score   support\n",
      "\n",
      "    Negative       1.00      1.00      1.00        23\n",
      "     Neutral       0.92      0.85      0.88        13\n",
      "    Positive       0.83      0.91      0.87        11\n",
      "\n",
      "    accuracy                           0.94        47\n",
      "   macro avg       0.92      0.92      0.92        47\n",
      "weighted avg       0.94      0.94      0.94        47\n",
      "\n"
     ]
    }
   ],
   "source": [
    "from sklearn.metrics import classification_report\n",
    "print(classification_report(y_test,predictions))"
   ]
  },
  {
   "cell_type": "code",
   "execution_count": null,
   "id": "08ceaf0b",
   "metadata": {},
   "outputs": [],
   "source": []
  },
  {
   "cell_type": "markdown",
   "id": "774ca78b",
   "metadata": {},
   "source": [
    "# Multinomial Naive Bayes"
   ]
  },
  {
   "cell_type": "code",
   "execution_count": 122,
   "id": "cab0711a",
   "metadata": {},
   "outputs": [
    {
     "data": {
      "text/plain": [
       "0.9361702127659575"
      ]
     },
     "execution_count": 122,
     "metadata": {},
     "output_type": "execute_result"
    }
   ],
   "source": [
    "from sklearn.naive_bayes import GaussianNB, MultinomialNB, BernoulliNB\n",
    "\n",
    "model=MultinomialNB()\n",
    "model.fit(x_train_final,y_train)\n",
    "model.score(x_test_final,y_test)"
   ]
  },
  {
   "cell_type": "code",
   "execution_count": 123,
   "id": "277d9ed0",
   "metadata": {},
   "outputs": [
    {
     "name": "stdout",
     "output_type": "stream",
     "text": [
      "              precision    recall  f1-score   support\n",
      "\n",
      "    Negative       1.00      1.00      1.00        23\n",
      "     Neutral       0.92      0.85      0.88        13\n",
      "    Positive       0.83      0.91      0.87        11\n",
      "\n",
      "    accuracy                           0.94        47\n",
      "   macro avg       0.92      0.92      0.92        47\n",
      "weighted avg       0.94      0.94      0.94        47\n",
      "\n"
     ]
    }
   ],
   "source": [
    "from sklearn.metrics import classification_report\n",
    "print(classification_report(y_test,predictions))"
   ]
  },
  {
   "cell_type": "code",
   "execution_count": 124,
   "id": "f642ccd0",
   "metadata": {},
   "outputs": [
    {
     "data": {
      "text/plain": [
       "0.9361702127659575"
      ]
     },
     "execution_count": 124,
     "metadata": {},
     "output_type": "execute_result"
    }
   ],
   "source": [
    "from sklearn.naive_bayes import GaussianNB, MultinomialNB, BernoulliNB\n",
    "\n",
    "model=GaussianNB()\n",
    "model.fit(x_train_final,y_train)\n",
    "model.score(x_test_final,y_test)"
   ]
  },
  {
   "cell_type": "code",
   "execution_count": 125,
   "id": "af8c09d9",
   "metadata": {},
   "outputs": [
    {
     "data": {
      "text/plain": [
       "0.9787234042553191"
      ]
     },
     "execution_count": 125,
     "metadata": {},
     "output_type": "execute_result"
    }
   ],
   "source": [
    "from sklearn.naive_bayes import GaussianNB, MultinomialNB, BernoulliNB\n",
    "\n",
    "model=BernoulliNB()\n",
    "model.fit(x_train_final,y_train)\n",
    "model.score(x_test_final,y_test)"
   ]
  },
  {
   "cell_type": "code",
   "execution_count": null,
   "id": "8dd496f1",
   "metadata": {},
   "outputs": [],
   "source": []
  },
  {
   "cell_type": "code",
   "execution_count": 126,
   "id": "eab6fe11",
   "metadata": {},
   "outputs": [],
   "source": [
    "predictions=model.predict(x_test_final)"
   ]
  },
  {
   "cell_type": "code",
   "execution_count": 127,
   "id": "4b701498",
   "metadata": {
    "scrolled": false
   },
   "outputs": [
    {
     "name": "stdout",
     "output_type": "stream",
     "text": [
      "              precision    recall  f1-score   support\n",
      "\n",
      "    Negative       1.00      1.00      1.00        23\n",
      "     Neutral       0.93      1.00      0.96        13\n",
      "    Positive       1.00      0.91      0.95        11\n",
      "\n",
      "    accuracy                           0.98        47\n",
      "   macro avg       0.98      0.97      0.97        47\n",
      "weighted avg       0.98      0.98      0.98        47\n",
      "\n"
     ]
    }
   ],
   "source": [
    "\n",
    "from sklearn.metrics import classification_report\n",
    "print(classification_report(y_test,predictions))"
   ]
  },
  {
   "cell_type": "code",
   "execution_count": null,
   "id": "4b7895f7",
   "metadata": {},
   "outputs": [],
   "source": []
  },
  {
   "cell_type": "code",
   "execution_count": 128,
   "id": "a0e9f373",
   "metadata": {},
   "outputs": [
    {
     "name": "stdout",
     "output_type": "stream",
     "text": [
      "              precision    recall  f1-score   support\n",
      "\n",
      "    Negative       1.00      1.00      1.00        23\n",
      "     Neutral       0.93      1.00      0.96        13\n",
      "    Positive       1.00      0.91      0.95        11\n",
      "\n",
      "    accuracy                           0.98        47\n",
      "   macro avg       0.98      0.97      0.97        47\n",
      "weighted avg       0.98      0.98      0.98        47\n",
      "\n"
     ]
    }
   ],
   "source": [
    "\n",
    "from sklearn.metrics import classification_report\n",
    "print(classification_report(y_test,predictions))"
   ]
  },
  {
   "cell_type": "code",
   "execution_count": null,
   "id": "d9259bab",
   "metadata": {},
   "outputs": [],
   "source": []
  },
  {
   "cell_type": "code",
   "execution_count": 129,
   "id": "998f653e",
   "metadata": {},
   "outputs": [],
   "source": [
    "import numpy as np\n",
    "import pandas as pd\n",
    "from sklearn.model_selection import cross_val_score\n",
    "from sklearn.model_selection import GridSearchCV\n",
    "\n",
    "from sklearn.naive_bayes import GaussianNB, MultinomialNB, BernoulliNB\n",
    "from sklearn.ensemble import GradientBoostingClassifier\n"
   ]
  },
  {
   "cell_type": "code",
   "execution_count": 130,
   "id": "9cf32a75",
   "metadata": {},
   "outputs": [],
   "source": [
    "# list of models\n",
    "models = [MultinomialNB(), GaussianNB(), BernoulliNB(), GradientBoostingClassifier(n_estimators=100, learning_rate=1.0,max_depth=13, random_state=1)]"
   ]
  },
  {
   "cell_type": "code",
   "execution_count": 131,
   "id": "c700439e",
   "metadata": {},
   "outputs": [],
   "source": [
    "def compare_models_cross_validation():\n",
    "    \n",
    "    for model in models:\n",
    "        cv_score = cross_val_score(model, x, y, cv=4)\n",
    "        mean_accuracy = sum(cv_score)/len(cv_score)\n",
    "        mean_accuracy = mean_accuracy*100\n",
    "        mean_accuracy = round(mean_accuracy, 2)\n",
    "        print('Cross Validation accuracies for the',model,'=', cv_score)\n",
    "        print('Acccuracy score of the ',model,'=',mean_accuracy,'%')\n",
    "        print('---------------------------------------------------------------')"
   ]
  },
  {
   "cell_type": "code",
   "execution_count": 132,
   "id": "ffbe71ac",
   "metadata": {},
   "outputs": [
    {
     "name": "stdout",
     "output_type": "stream",
     "text": [
      "Cross Validation accuracies for the MultinomialNB() = [0.86440678 0.91525424 0.94827586 0.93103448]\n",
      "Acccuracy score of the  MultinomialNB() = 91.47 %\n",
      "---------------------------------------------------------------\n",
      "Cross Validation accuracies for the GaussianNB() = [0.79661017 0.94915254 0.94827586 0.96551724]\n",
      "Acccuracy score of the  GaussianNB() = 91.49 %\n",
      "---------------------------------------------------------------\n",
      "Cross Validation accuracies for the BernoulliNB() = [0.86440678 0.84745763 0.94827586 0.86206897]\n",
      "Acccuracy score of the  BernoulliNB() = 88.06 %\n",
      "---------------------------------------------------------------\n",
      "Cross Validation accuracies for the GradientBoostingClassifier(learning_rate=1.0, max_depth=13, random_state=1) = [0.84745763 0.94915254 0.94827586 0.93103448]\n",
      "Acccuracy score of the  GradientBoostingClassifier(learning_rate=1.0, max_depth=13, random_state=1) = 91.9 %\n",
      "---------------------------------------------------------------\n"
     ]
    }
   ],
   "source": [
    "compare_models_cross_validation()"
   ]
  },
  {
   "cell_type": "code",
   "execution_count": null,
   "id": "eb6f964a",
   "metadata": {},
   "outputs": [],
   "source": []
  },
  {
   "cell_type": "code",
   "execution_count": null,
   "id": "87df5772",
   "metadata": {},
   "outputs": [],
   "source": []
  },
  {
   "cell_type": "code",
   "execution_count": 135,
   "id": "7adc0981",
   "metadata": {},
   "outputs": [
    {
     "data": {
      "text/plain": [
       "0.9787234042553191"
      ]
     },
     "execution_count": 135,
     "metadata": {},
     "output_type": "execute_result"
    }
   ],
   "source": [
    "from sklearn.svm import SVC\n",
    "model=SVC()\n",
    "model.fit(x_train_final,y_train)\n",
    "model.score(x_test_final,y_test)"
   ]
  },
  {
   "cell_type": "code",
   "execution_count": 136,
   "id": "2d98a147",
   "metadata": {},
   "outputs": [
    {
     "name": "stdout",
     "output_type": "stream",
     "text": [
      "              precision    recall  f1-score   support\n",
      "\n",
      "    Negative       1.00      1.00      1.00        23\n",
      "     Neutral       0.93      1.00      0.96        13\n",
      "    Positive       1.00      0.91      0.95        11\n",
      "\n",
      "    accuracy                           0.98        47\n",
      "   macro avg       0.98      0.97      0.97        47\n",
      "weighted avg       0.98      0.98      0.98        47\n",
      "\n"
     ]
    }
   ],
   "source": [
    "from sklearn.metrics import classification_report\n",
    "print(classification_report(y_test,predictions))"
   ]
  },
  {
   "cell_type": "code",
   "execution_count": null,
   "id": "d36778b5",
   "metadata": {},
   "outputs": [],
   "source": []
  }
 ],
 "metadata": {
  "colab": {
   "name": "twitter api - Copy.ipynb",
   "provenance": []
  },
  "kernelspec": {
   "display_name": "Python 3 (ipykernel)",
   "language": "python",
   "name": "python3"
  },
  "language_info": {
   "codemirror_mode": {
    "name": "ipython",
    "version": 3
   },
   "file_extension": ".py",
   "mimetype": "text/x-python",
   "name": "python",
   "nbconvert_exporter": "python",
   "pygments_lexer": "ipython3",
   "version": "3.9.12"
  }
 },
 "nbformat": 4,
 "nbformat_minor": 5
}
